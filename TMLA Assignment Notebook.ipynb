{
 "cells": [
  {
   "cell_type": "markdown",
   "metadata": {},
   "source": [
    "## Assignment Jupyter Notebook\n",
    "\n",
    "## Text Mining and Language Analytics\n",
    "\n",
    "## Fergus J. P. Walsh"
   ]
  },
  {
   "cell_type": "markdown",
   "metadata": {},
   "source": [
    "### Part 1\n",
    "\n",
    "### Loading and preparing data."
   ]
  },
  {
   "cell_type": "markdown",
   "metadata": {},
   "source": [
    "The two .csv files are read and converted to Pandas data frame objects. \n",
    "Exploratory data analysis (Table 1)."
   ]
  },
  {
   "cell_type": "code",
   "execution_count": 1,
   "metadata": {},
   "outputs": [
    {
     "name": "stdout",
     "output_type": "stream",
     "text": [
      "Training set size: 10248\n",
      "Test set size: 2196\n",
      "Positive training tweets: 1630\n",
      "Neutral training tweets: 2184\n",
      "Negative training tweets: 6434\n",
      "Positive test tweets: 361\n",
      "Neutral test tweets: 455\n",
      "Negative test tweets: 1380\n"
     ]
    }
   ],
   "source": [
    "import pandas as pd\n",
    "dataset_train1 = pd.read_csv(\"tweets_training.csv\")\n",
    "dataset_test1 = pd.read_csv(\"tweets_test.csv\")\n",
    "\n",
    "labels_train1 = dataset_train1[\"sentiment\"].tolist()\n",
    "text_train1 = dataset_train1[\"text\"].tolist()\n",
    "print(\"Training set size:\", len(text_train1))\n",
    "\n",
    "labels_test1 = dataset_test1[\"sentiment\"].tolist()\n",
    "text_test1 = dataset_test1[\"text\"].tolist()\n",
    "print(\"Test set size:\", len(text_test1))\n",
    "\n",
    "print(\"Positive training tweets:\", labels_train1.count(\"positive\"))\n",
    "print(\"Neutral training tweets:\",labels_train1.count(\"neutral\"))\n",
    "print(\"Negative training tweets:\",labels_train1.count(\"negative\"))\n",
    "print(\"Positive test tweets:\", labels_test1.count(\"positive\"))\n",
    "print(\"Neutral test tweets:\",labels_test1.count(\"neutral\"))\n",
    "print(\"Negative test tweets:\",labels_test1.count(\"negative\"))"
   ]
  },
  {
   "cell_type": "markdown",
   "metadata": {},
   "source": [
    "The text is tokenised for use in the Naïve Bayes classifier. Any single token texts are removed."
   ]
  },
  {
   "cell_type": "code",
   "execution_count": 2,
   "metadata": {},
   "outputs": [
    {
     "name": "stdout",
     "output_type": "stream",
     "text": [
      "Text no. 329 in the training set contained only one token and was removed.\n",
      "Text no. 376 in the training set contained only one token and was removed.\n",
      "Text no. 535 in the training set contained only one token and was removed.\n",
      "Text no. 601 in the training set contained only one token and was removed.\n",
      "Text no. 670 in the training set contained only one token and was removed.\n",
      "Text no. 691 in the training set contained only one token and was removed.\n",
      "Text no. 739 in the training set contained only one token and was removed.\n",
      "Text no. 995 in the training set contained only one token and was removed.\n",
      "Text no. 1036 in the training set contained only one token and was removed.\n",
      "Text no. 1456 in the training set contained only one token and was removed.\n",
      "Text no. 1596 in the training set contained only one token and was removed.\n",
      "Text no. 1995 in the training set contained only one token and was removed.\n",
      "Text no. 2386 in the training set contained only one token and was removed.\n",
      "Text no. 2494 in the training set contained only one token and was removed.\n",
      "Text no. 2776 in the training set contained only one token and was removed.\n",
      "Text no. 3086 in the training set contained only one token and was removed.\n",
      "Text no. 3319 in the training set contained only one token and was removed.\n",
      "Text no. 3436 in the training set contained only one token and was removed.\n",
      "Text no. 3457 in the training set contained only one token and was removed.\n",
      "Text no. 3903 in the training set contained only one token and was removed.\n",
      "Text no. 3911 in the training set contained only one token and was removed.\n",
      "Text no. 4677 in the training set contained only one token and was removed.\n",
      "Text no. 4699 in the training set contained only one token and was removed.\n",
      "Text no. 4766 in the training set contained only one token and was removed.\n",
      "Text no. 4838 in the training set contained only one token and was removed.\n",
      "Text no. 5021 in the training set contained only one token and was removed.\n",
      "Text no. 5078 in the training set contained only one token and was removed.\n",
      "Text no. 5326 in the training set contained only one token and was removed.\n",
      "Text no. 6410 in the training set contained only one token and was removed.\n",
      "Text no. 6438 in the training set contained only one token and was removed.\n",
      "Text no. 7337 in the training set contained only one token and was removed.\n",
      "Text no. 7338 in the training set contained only one token and was removed.\n",
      "Text no. 7911 in the training set contained only one token and was removed.\n",
      "Text no. 8009 in the training set contained only one token and was removed.\n",
      "Text no. 8959 in the training set contained only one token and was removed.\n",
      "Text no. 9139 in the training set contained only one token and was removed.\n",
      "Text no. 9503 in the training set contained only one token and was removed.\n",
      "Text no. 9510 in the training set contained only one token and was removed.\n",
      "Text no. 9849 in the training set contained only one token and was removed.\n",
      "Text no. 10142 in the training set contained only one token and was removed.\n",
      "Text no. 10143 in the training set contained only one token and was removed.\n",
      "Text no. 10213 in the training set contained only one token and was removed.\n",
      "Total no. training tweets: 10206\n",
      "Total no. training labels: 10206\n",
      "Training tweet 1: ['+', 'besides', ',', 'no', 'small', 'degree', 'of', 'self-interest', '.', 'we', 'take', 'that', 'route', 'several', 'times', 'a', 'year', '&', 'would', 'hate', 'to', 'be', 'in', 'that', 'situation', '.']\n",
      "Text no. 110 in the test set contained only one token and was removed.\n",
      "Text no. 404 in the test set contained only one token and was removed.\n",
      "Text no. 478 in the test set contained only one token and was removed.\n",
      "Text no. 1196 in the test set contained only one token and was removed.\n",
      "Text no. 1772 in the test set contained only one token and was removed.\n",
      "Text no. 1783 in the test set contained only one token and was removed.\n",
      "Text no. 1795 in the test set contained only one token and was removed.\n",
      "Text no. 1951 in the test set contained only one token and was removed.\n",
      "Text no. 2175 in the test set contained only one token and was removed.\n",
      "Total no. test tweets: 2187\n",
      "Total no. test labels: 2187\n",
      "Test tweet 1: ['i', 'submitted', 'a', 'complaint', 'via', 'that', 'link', 'in', 'dec', '.', '&', 'followed', 'up', 'in', 'jan', '.', 'never', 'heard', 'back', '!', '#badcustomerservice']\n"
     ]
    }
   ],
   "source": [
    "from nltk.tokenize import TweetTokenizer\n",
    "tt = TweetTokenizer(preserve_case = False, strip_handles=True)\n",
    "\n",
    "token_train = []\n",
    "labels_train = []\n",
    "token_test = []\n",
    "labels_test = []\n",
    "\n",
    "for i in range(len(text_train1)):\n",
    "    try:\n",
    "        tokens = tt.tokenize(text_train1[i].lower())\n",
    "        if(len(tokens)>1):\n",
    "            token_train.append(tokens)\n",
    "            labels_train.append(labels_train1[i])\n",
    "        else:\n",
    "            print(\"Text no.\", i, \"in the training set contained only one token and was removed.\")\n",
    "    except:\n",
    "        pass\n",
    "print(\"Total no. training tweets:\", len(token_train))\n",
    "print(\"Total no. training labels:\", len(labels_train))\n",
    "print(\"Training tweet 1:\", token_train[0])\n",
    "\n",
    "for j in range(len(text_test1)):\n",
    "    try:\n",
    "        tokens = tt.tokenize(text_test1[j].lower())\n",
    "        if(len(tokens)>1):\n",
    "            token_test.append(tokens)\n",
    "            labels_test.append(labels_test1[j])\n",
    "        else:\n",
    "            print(\"Text no.\", j, \"in the test set contained only one token and was removed.\")\n",
    "    except:\n",
    "        pass\n",
    "print(\"Total no. test tweets:\", len(token_test))\n",
    "print(\"Total no. test labels:\", len(labels_test))\n",
    "print(\"Test tweet 1:\", token_test[0])"
   ]
  },
  {
   "cell_type": "markdown",
   "metadata": {},
   "source": [
    "The training data set is prepared to be used by the neural networks. The labels are one-hot encoded. The data set is saved as a .csv."
   ]
  },
  {
   "cell_type": "code",
   "execution_count": 3,
   "metadata": {},
   "outputs": [
    {
     "name": "stdout",
     "output_type": "stream",
     "text": [
      "         sentiment                                               text\n",
      "0  [1.0, 0.0, 0.0]  @united + besides, no small degree of self-int...\n",
      "1  [1.0, 0.0, 0.0]  @USAirways had mom sit for 3 hours waiting for...\n",
      "2  [1.0, 0.0, 0.0]  @SouthwestAir you could be a little more accom...\n",
      "3  [1.0, 0.0, 0.0]  @united WORST SERVICE EVER. Denied access to o...\n",
      "4  [1.0, 0.0, 0.0]  @USAirways I've been on a music hold for over ...\n"
     ]
    }
   ],
   "source": [
    "import pandas as pd\n",
    "from numpy import array\n",
    "from sklearn.preprocessing import LabelEncoder\n",
    "from sklearn.preprocessing import OneHotEncoder\n",
    "\n",
    "labels_train2 = dataset_train1[\"sentiment\"]\n",
    "text_train2 = dataset_train1[\"text\"]\n",
    "labels_train2 = array(labels_train2)\n",
    "\n",
    "label_encoder = LabelEncoder()\n",
    "integer_encoded = label_encoder.fit_transform(labels_train2)\n",
    "onehot_encoder = OneHotEncoder(sparse=False)\n",
    "integer_encoded = integer_encoded.reshape(len(integer_encoded), 1)\n",
    "labels_train2 = onehot_encoder.fit_transform(integer_encoded)\n",
    "\n",
    "dataset_train2 = pd.DataFrame(columns=[\"sentiment\",\"text\"])\n",
    "dataset_train2[\"sentiment\"] = dataset_train2[\"sentiment\"].astype(object)\n",
    "for i in range(len(labels_train2)):\n",
    "    dataset_train2.loc[i, \"sentiment\"] = labels_train2[i]\n",
    "    dataset_train2.loc[i, \"text\"] = text_train2[i]\n",
    "\n",
    "print(dataset_train2.head())\n",
    "dataset_train2.to_csv(\"dataset_train2.csv\", index = False)"
   ]
  },
  {
   "cell_type": "markdown",
   "metadata": {},
   "source": [
    "### Part 2\n",
    "\n",
    "### Data transformation and preprocessing"
   ]
  },
  {
   "cell_type": "markdown",
   "metadata": {},
   "source": [
    "The data sets are preprocessed for use by the Naïve Bayes classifiers. Punctuation is removed and each text is reformatted as a bag of words."
   ]
  },
  {
   "cell_type": "code",
   "execution_count": 13,
   "metadata": {},
   "outputs": [
    {
     "name": "stdout",
     "output_type": "stream",
     "text": [
      "First 5 texts in training set as bags of words:\n",
      " ['besides no small degree of selfinterest we take that route several times a year would hate to be in that situation', 'had mom sit for hours waiting for a flight they ultimately cancelled flighted to give her a tuesday morning flight no compensation ugh', 'you could be a little more accommodating with extending my flight creditwhats extra days #notahappytraveler', 'worst service ever denied access to our flight and then moved flight times how hard is it to schedule a gate next time', 'been on a music hold for over a hour trying to get my aadvantage membership merged can someone please call me asap']\n",
      "First 5 texts in test set as bags of words:\n",
      " ['i submitted a complaint via that link in dec followed up in jan never heard back #badcustomerservice', 'could you check if there is swu typo in last post space on mxpjfk feb thanks', 'i always tell everyone to fly southwest congratulations', 'please help regarding pnr why am i now waitlisted for a flight', 'at logan airport and waiting to checkin for my flight checkin desk not open why']\n"
     ]
    }
   ],
   "source": [
    "import re\n",
    "pp_train = token_train\n",
    "pp_test = token_test\n",
    "\n",
    "for i in range(len(pp_train)):\n",
    "    new_tokens = []\n",
    "    for word in pp_train[i]:\n",
    "        word = word.replace(\"-\", \"\")\n",
    "        word = word.replace(\".\", \"\")\n",
    "        word = word.replace(\"amp\", \"\")\n",
    "        regex_check = re.match(\"[a-z@#]+\", word)\n",
    "        if(regex_check!=None):\n",
    "            if(regex_check.group()==word):\n",
    "                new_tokens.append(word)\n",
    "    pp_train[i] = new_tokens\n",
    "\n",
    "for i in range(len(pp_train)):\n",
    "    if(len(pp_train[i])==0):\n",
    "        print(\"Text no.\", i, \"in the training set is empty and was removed.\")\n",
    "        pp_train.pop(i)\n",
    "        labels_train.pop(i)\n",
    "\n",
    "for j in range(len(pp_test)):\n",
    "    new_tokens = []\n",
    "    for word in pp_test[j]:\n",
    "        word = word.replace(\"-\", \"\")\n",
    "        word = word.replace(\".\", \"\")\n",
    "        word = word.replace(\"amp\", \"\")\n",
    "        regex_check = re.match(\"[a-z@#]+\", word)\n",
    "        if(regex_check!=None):\n",
    "            if(regex_check.group()==word):\n",
    "                new_tokens.append(word)\n",
    "    pp_test[j] = new_tokens\n",
    "\n",
    "for j in range(len(pp_test)):\n",
    "    if(len(pp_test[j])==0):\n",
    "        print(\"Text no.\", j, \"in the test set is empty and was removed.\")\n",
    "        pp_test.pop(j)\n",
    "        labels_test.pop(j)\n",
    "\n",
    "bagofwords_train = []\n",
    "bagofwords_test = []\n",
    "\n",
    "for k in range(len(pp_train)):\n",
    "    text = \" \".join(pp_train[k])\n",
    "    bagofwords_train.append(text)\n",
    "\n",
    "for l in range(len(pp_test)):\n",
    "    text = \" \".join(pp_test[l])\n",
    "    bagofwords_test.append(text)\n",
    "\n",
    "print(\"First 5 texts in training set as bags of words:\\n\", bagofwords_train[0:5])\n",
    "print(\"First 5 texts in test set as bags of words:\\n\", bagofwords_test[0:5])"
   ]
  },
  {
   "cell_type": "markdown",
   "metadata": {},
   "source": [
    "The training data set is prepared to train the neural networks. Texts are tokenised. Training data set split into a training and validation folds. Vocabulary built for training and validation folds."
   ]
  },
  {
   "cell_type": "code",
   "execution_count": 14,
   "metadata": {},
   "outputs": [
    {
     "name": "stdout",
     "output_type": "stream",
     "text": [
      "First text in training set: {'label': '[1. 0. 0.]', 'text': ['+', 'besides', ',', 'no', 'small', 'degree', 'of', 'self-interest', '.', 'we', 'take', 'that', 'route', 'several', 'times', 'a', 'year', '&', 'would', 'hate', 'to', 'be', 'in', 'that', 'situation', '.']}\n",
      "Second text in training set: {'label': '[1. 0. 0.]', 'text': ['had', 'mom', 'sit', 'for', '3', 'hours', 'waiting', 'for', 'a', 'flight', 'they', 'ultimately', 'cancelled', 'flighted', 'to', 'give', 'her', 'a', 'tuesday', 'morning', 'flight', '...', 'no', 'compensation', '.', 'ugh']}\n",
      "Size of training fold: 7174\n",
      "Size of validation fold: 3074\n",
      "Size of TEXT vocab.: 10618\n",
      "Size of LABEL vocab.: 3\n",
      "Most common tokens in training set: [('.', 6760), ('to', 4241), ('the', 2906), ('i', 2709), ('!', 2447), ('?', 2282), ('a', 2258), (',', 2067), ('you', 1963), ('for', 1954)]\n",
      "Index of unknown word <unk>: 0\n",
      "Index of padding word <pad>: 1\n",
      "Label keys: defaultdict(None, {'[1. 0. 0.]': 0, '[0. 1. 0.]': 1, '[0. 0. 1.]': 2})\n"
     ]
    }
   ],
   "source": [
    "import torch\n",
    "from torchtext.legacy import data\n",
    "from nltk.tokenize import TweetTokenizer\n",
    "import random\n",
    "\n",
    "tokenizer = TweetTokenizer(preserve_case = False, strip_handles=True)\n",
    "\n",
    "TEXT = data.Field(tokenize=tokenizer.tokenize,batch_first=True,include_lengths=True)\n",
    "LABEL = data.LabelField(batch_first=True, dtype = torch.float)\n",
    "fields = [(\"label\",LABEL),(\"text\",TEXT)]\n",
    "dataset_train3 = data.TabularDataset(path = \"dataset_train2.csv\", format = \"csv\", fields = fields, skip_header = True)\n",
    "\n",
    "print(\"First text in training set:\", vars(dataset_train3.examples[0]))\n",
    "print(\"Second text in training set:\", vars(dataset_train3.examples[1]))\n",
    "\n",
    "nn_train1, nn_val1 = dataset_train3.split(split_ratio=0.7)\n",
    "\n",
    "print(\"Size of training fold:\",len(nn_train1))\n",
    "print(\"Size of validation fold:\",len(nn_val1))\n",
    "\n",
    "TEXT.build_vocab(nn_train1, min_freq = 1)\n",
    "LABEL.build_vocab(nn_train1)\n",
    "\n",
    "print(\"Size of TEXT vocab.:\", len(TEXT.vocab))\n",
    "print(\"Size of LABEL vocab.:\", len(LABEL.vocab))\n",
    "print(\"Most common tokens in training set:\",TEXT.vocab.freqs.most_common(10))\n",
    "print(\"Index of unknown word <unk>:\",TEXT.vocab.stoi['<unk>'])\n",
    "print(\"Index of padding word <pad>:\",TEXT.vocab.stoi['<pad>'])\n",
    "print(\"Label keys:\", LABEL.vocab.stoi)"
   ]
  },
  {
   "cell_type": "markdown",
   "metadata": {},
   "source": [
    "### Part 3\n",
    "\n",
    "### Naïve Bayes Classifier"
   ]
  },
  {
   "cell_type": "markdown",
   "metadata": {},
   "source": [
    "Model 1: Multinominal Naïve Bayes"
   ]
  },
  {
   "cell_type": "code",
   "execution_count": 15,
   "metadata": {},
   "outputs": [
    {
     "data": {
      "text/plain": [
       "Pipeline(steps=[('tfidfvectorizer',\n",
       "                 TfidfVectorizer(tokenizer=<bound method TweetTokenizer.tokenize of <nltk.tokenize.casual.TweetTokenizer object at 0x000002729D6EE940>>)),\n",
       "                ('multinomialnb', MultinomialNB())])"
      ]
     },
     "execution_count": 15,
     "metadata": {},
     "output_type": "execute_result"
    }
   ],
   "source": [
    "from sklearn.feature_extraction.text import TfidfVectorizer\n",
    "from sklearn.naive_bayes import MultinomialNB\n",
    "from sklearn.pipeline import make_pipeline\n",
    "from nltk.tokenize import TweetTokenizer\n",
    "tokenizer = TweetTokenizer(preserve_case = False, strip_handles=True)\n",
    "\n",
    "model1 = make_pipeline(TfidfVectorizer(tokenizer = tokenizer.tokenize), MultinomialNB())\n",
    "model1.fit(bagofwords_train, labels_train)"
   ]
  },
  {
   "cell_type": "markdown",
   "metadata": {},
   "source": [
    "Model 2: Binary, or Bernoulli Naïve Bayes"
   ]
  },
  {
   "cell_type": "code",
   "execution_count": 16,
   "metadata": {},
   "outputs": [
    {
     "data": {
      "text/plain": [
       "Pipeline(steps=[('tfidfvectorizer',\n",
       "                 TfidfVectorizer(tokenizer=<bound method TweetTokenizer.tokenize of <nltk.tokenize.casual.TweetTokenizer object at 0x000002729D6EE8B0>>)),\n",
       "                ('bernoullinb', BernoulliNB())])"
      ]
     },
     "execution_count": 16,
     "metadata": {},
     "output_type": "execute_result"
    }
   ],
   "source": [
    "from sklearn.feature_extraction.text import TfidfVectorizer\n",
    "from sklearn.naive_bayes import BernoulliNB\n",
    "from sklearn.pipeline import make_pipeline\n",
    "from nltk.tokenize import TweetTokenizer\n",
    "tokenizer = TweetTokenizer(preserve_case = False, strip_handles=True)\n",
    "\n",
    "model2 = make_pipeline(TfidfVectorizer(tokenizer = tokenizer.tokenize), BernoulliNB())\n",
    "model2.fit(bagofwords_train, labels_train)"
   ]
  },
  {
   "cell_type": "markdown",
   "metadata": {},
   "source": [
    "### Part 4\n",
    "\n",
    "### Recurrent Neural Network Classifier (Model 3)"
   ]
  },
  {
   "cell_type": "markdown",
   "metadata": {},
   "source": [
    "Defining model architecture"
   ]
  },
  {
   "cell_type": "code",
   "execution_count": 25,
   "metadata": {},
   "outputs": [
    {
     "name": "stdout",
     "output_type": "stream",
     "text": [
      "Device: cpu\n",
      "RNN (Model 3) architecture:\n",
      " RNN_Model3(\n",
      "  (embedding): Embedding(10618, 10)\n",
      "  (lstm): LSTM(10, 64, batch_first=True, bidirectional=True)\n",
      "  (fc1): Linear(in_features=128, out_features=3, bias=True)\n",
      ")\n",
      "\n",
      "Model 3 trainable parameters: 145479\n"
     ]
    }
   ],
   "source": [
    "import torch.nn as nn\n",
    "\n",
    "device = torch.device('cuda' if torch.cuda.is_available() else 'cpu')\n",
    "print(\"Device:\",device)\n",
    "BATCH_SIZE = 32\n",
    "training_iterator, test_iterator = data.BucketIterator.splits(\n",
    "    (nn_train1, nn_val1),\n",
    "    batch_size = BATCH_SIZE,\n",
    "    sort_key = lambda x: len(x.text),\n",
    "    sort_within_batch=True,\n",
    "    device = device)\n",
    "\n",
    "class RNN_Model3(nn.Module):\n",
    "    def __init__(self, vocab_size, embedding_dim, hidden_dim, output_dim, n_layers,\n",
    "        bidirectional, dropout):\n",
    "        super().__init__()\n",
    "        self.embedding = nn.Embedding(vocab_size, embedding_dim)\n",
    "        self.lstm = nn.LSTM(embedding_dim, \n",
    "                            hidden_dim, \n",
    "                            num_layers=n_layers, \n",
    "                            bidirectional=bidirectional, \n",
    "                            dropout=dropout, \n",
    "                            batch_first=True)\n",
    "        self.fc1 = nn.Linear(hidden_dim * 2, output_dim)\n",
    "    \n",
    "    def forward(self, text, text_lengths):\n",
    "        embedded = self.embedding(text)\n",
    "        packed_embedded = nn.utils.rnn.pack_padded_sequence(embedded, text_lengths,batch_first=True)\n",
    "        packed_output, (hidden, cell) = self.lstm(packed_embedded)\n",
    "        hidden = torch.cat((hidden[-2,:,:], hidden[-1,:,:]), dim = 1)\n",
    "        dense_outputs=self.fc1(hidden)\n",
    "        return dense_outputs\n",
    "\n",
    "vocabulary_size = len(TEXT.vocab)\n",
    "embedding_dimensions = 10\n",
    "LSTM_no_of_hidden_nodes = 64\n",
    "LSTM_no_of_recurrent_layers = 1\n",
    "LSTM_bidirection = True\n",
    "LSTM_dropout = 0\n",
    "output_size = len(LABEL.vocab)\n",
    "\n",
    "model3 = RNN_Model3(vocabulary_size, embedding_dimensions, LSTM_no_of_hidden_nodes,\n",
    "    output_size, LSTM_no_of_recurrent_layers,\n",
    "    bidirectional = LSTM_bidirection,dropout = LSTM_dropout)\n",
    "\n",
    "print(\"RNN (Model 3) architecture:\\n\",model3)\n",
    "\n",
    "def count_parameters(model3):\n",
    "    return sum(p.numel() for p in model3.parameters() if p.requires_grad)\n",
    "print(\"\\nModel 3 trainable parameters:\",count_parameters(model3))\n",
    "\n",
    "import torch.optim as optim\n",
    "optimizer = optim.Adam(model3.parameters())\n",
    "criterion = nn.CrossEntropyLoss()\n",
    "\n",
    "def categorical_accuracy(preds, y):\n",
    "    top_pred = preds.argmax(1, keepdim = True)\n",
    "    correct = top_pred.eq(y.view_as(top_pred)).sum()\n",
    "    acc = correct.float() / y.shape[0]\n",
    "    return acc\n",
    "\n",
    "model3 = model3.to(device)\n",
    "criterion = criterion.to(device)\n",
    "\n",
    "def train(model3, iterator, optimizer, criterion):\n",
    "    epoch_loss = 0\n",
    "    epoch_acc = 0\n",
    "    model3.train()\n",
    "    for batch in iterator:\n",
    "        optimizer.zero_grad()\n",
    "        text, text_lengths = batch.text\n",
    "        predictions = model3(text, text_lengths)\n",
    "        loss = criterion(predictions, batch.label.type(torch.LongTensor))\n",
    "        acc = categorical_accuracy(predictions, batch.label)\n",
    "        loss.backward()\n",
    "        optimizer.step()\n",
    "        epoch_loss += loss.item()\n",
    "        epoch_acc += acc.item()\n",
    "    return epoch_loss / len(iterator), epoch_acc / len(iterator)\n",
    "\n",
    "def evaluate(model3, iterator, criterion):\n",
    "    epoch_loss = 0\n",
    "    epoch_acc = 0\n",
    "    model3.eval()\n",
    "    with torch.no_grad():\n",
    "        for batch in iterator:\n",
    "            text, text_lengths = batch.text\n",
    "            predictions = model3(text, text_lengths)\n",
    "            loss = criterion(predictions, batch.label.type(torch.LongTensor))\n",
    "            acc = categorical_accuracy(predictions, batch.label)\n",
    "            epoch_loss += loss.item()\n",
    "            epoch_acc += acc.item()\n",
    "    return epoch_loss / len(iterator), epoch_acc / len(iterator)"
   ]
  },
  {
   "cell_type": "markdown",
   "metadata": {},
   "source": [
    "Training the model over 25 epochs"
   ]
  },
  {
   "cell_type": "code",
   "execution_count": 26,
   "metadata": {},
   "outputs": [
    {
     "name": "stdout",
     "output_type": "stream",
     "text": [
      "Epoch   0: Train loss: 0.861 | Train acuracy: 0.6398 | Validation loss: 0.797 | Validation acuracy: 0.6643 - 6.09 s\n",
      "Epoch   1: Train loss: 0.759 | Train acuracy: 0.6843 | Validation loss: 0.750 | Validation acuracy: 0.6830 - 6.25 s\n",
      "Epoch   2: Train loss: 0.701 | Train acuracy: 0.7120 | Validation loss: 0.731 | Validation acuracy: 0.6927 - 5.97 s\n",
      "Epoch   3: Train loss: 0.642 | Train acuracy: 0.7406 | Validation loss: 0.702 | Validation acuracy: 0.7117 - 6.11 s\n",
      "Epoch   4: Train loss: 0.596 | Train acuracy: 0.7613 | Validation loss: 0.687 | Validation acuracy: 0.7146 - 6.00 s\n",
      "Epoch   5: Train loss: 0.543 | Train acuracy: 0.7847 | Validation loss: 0.706 | Validation acuracy: 0.7255 - 7.50 s\n",
      "Epoch   6: Train loss: 0.498 | Train acuracy: 0.8038 | Validation loss: 0.699 | Validation acuracy: 0.7345 - 5.75 s\n",
      "Epoch   7: Train loss: 0.458 | Train acuracy: 0.8246 | Validation loss: 0.745 | Validation acuracy: 0.7403 - 5.78 s\n",
      "Epoch   8: Train loss: 0.421 | Train acuracy: 0.8391 | Validation loss: 0.742 | Validation acuracy: 0.7455 - 6.18 s\n",
      "Epoch   9: Train loss: 0.382 | Train acuracy: 0.8557 | Validation loss: 0.747 | Validation acuracy: 0.7513 - 5.82 s\n",
      "Epoch  10: Train loss: 0.348 | Train acuracy: 0.8688 | Validation loss: 0.735 | Validation acuracy: 0.7548 - 6.30 s\n",
      "Epoch  11: Train loss: 0.317 | Train acuracy: 0.8828 | Validation loss: 0.843 | Validation acuracy: 0.7487 - 6.14 s\n",
      "Epoch  12: Train loss: 0.293 | Train acuracy: 0.8919 | Validation loss: 0.750 | Validation acuracy: 0.7500 - 6.28 s\n",
      "Epoch  13: Train loss: 0.253 | Train acuracy: 0.9082 | Validation loss: 0.796 | Validation acuracy: 0.7568 - 6.19 s\n",
      "Epoch  14: Train loss: 0.229 | Train acuracy: 0.9177 | Validation loss: 0.826 | Validation acuracy: 0.7523 - 6.08 s\n",
      "Epoch  15: Train loss: 0.199 | Train acuracy: 0.9286 | Validation loss: 0.890 | Validation acuracy: 0.7510 - 6.45 s\n",
      "Epoch  16: Train loss: 0.172 | Train acuracy: 0.9387 | Validation loss: 0.946 | Validation acuracy: 0.7503 - 6.22 s\n",
      "Epoch  17: Train loss: 0.150 | Train acuracy: 0.9482 | Validation loss: 0.937 | Validation acuracy: 0.7465 - 6.18 s\n",
      "Epoch  18: Train loss: 0.129 | Train acuracy: 0.9558 | Validation loss: 1.028 | Validation acuracy: 0.7500 - 6.22 s\n",
      "Epoch  19: Train loss: 0.109 | Train acuracy: 0.9637 | Validation loss: 1.138 | Validation acuracy: 0.7452 - 6.19 s\n",
      "Epoch  20: Train loss: 0.088 | Train acuracy: 0.9726 | Validation loss: 1.255 | Validation acuracy: 0.7484 - 6.32 s\n",
      "Epoch  21: Train loss: 0.115 | Train acuracy: 0.9611 | Validation loss: 1.189 | Validation acuracy: 0.7429 - 10.11 s\n",
      "Epoch  22: Train loss: 0.064 | Train acuracy: 0.9804 | Validation loss: 1.267 | Validation acuracy: 0.7468 - 6.31 s\n",
      "Epoch  23: Train loss: 0.048 | Train acuracy: 0.9868 | Validation loss: 1.451 | Validation acuracy: 0.7436 - 6.24 s\n",
      "Epoch  24: Train loss: 0.038 | Train acuracy: 0.9906 | Validation loss: 1.449 | Validation acuracy: 0.7458 - 6.16 s\n",
      "\n",
      "Best performance at epoch 4 | Loss: 0.687 | Accuracy: 0.7146\n"
     ]
    }
   ],
   "source": [
    "import time\n",
    "\n",
    "N_EPOCHS = 25\n",
    "best_valid_loss1 = float('inf')\n",
    "best_valid_acc1 = float('inf')\n",
    "best_epoch1 = 0\n",
    "\n",
    "epoch_loss_train1 = []\n",
    "epoch_loss_valid1 = []\n",
    "epoch_accuracy_train1 = []\n",
    "epoch_accuracy_valid1 = []\n",
    "\n",
    "for epoch in range(N_EPOCHS):\n",
    "    print(\"Epoch %3d:\" % epoch,end='')\n",
    "    start = time.time()\n",
    "    train_loss, train_acc = train(model3, training_iterator, optimizer, criterion)\n",
    "    epoch_loss_train1.append(train_loss)\n",
    "    epoch_accuracy_train1.append(train_acc)\n",
    "    \n",
    "    valid_loss, valid_acc = evaluate(model3, test_iterator, criterion)\n",
    "    epoch_loss_valid1.append(valid_loss)\n",
    "    epoch_accuracy_valid1.append(valid_acc)\n",
    "    \n",
    "    if valid_loss < best_valid_loss1:\n",
    "        best_valid_loss1 = valid_loss\n",
    "        best_valid_acc1 = valid_acc\n",
    "        best_epoch1 = epoch\n",
    "        torch.save(model3.state_dict(), 'saved_weights.pt')\n",
    "    print(\" Train loss: %.3f | Train acuracy: %3.4f \" % (train_loss,train_acc),end='')\n",
    "    print(\"| Validation loss: %.3f | Validation acuracy: %3.4f\" % (valid_loss,valid_acc),end='')\n",
    "    print(\" - %3.2f s\" % (time.time()-start))\n",
    "print(\"\\nBest performance at epoch %d | Loss: %.3f | Accuracy: %3.4f\" % (best_epoch1,best_valid_loss1,best_valid_acc1))"
   ]
  },
  {
   "cell_type": "markdown",
   "metadata": {},
   "source": [
    "Plotting change in loss and accuracy during training process. Figure 2 a"
   ]
  },
  {
   "cell_type": "code",
   "execution_count": 35,
   "metadata": {},
   "outputs": [
    {
     "data": {
      "image/png": "[encoded data removed]",
      "text/plain": [
       "<Figure size 576x432 with 2 Axes>"
      ]
     },
     "metadata": {},
     "output_type": "display_data"
    }
   ],
   "source": [
    "import numpy as np\n",
    "import seaborn as sns\n",
    "import matplotlib.pyplot as plt\n",
    "sns.set()\n",
    "plt.rcParams[\"font.family\"] = \"Arial\"\n",
    "\n",
    "eps = np.arange(N_EPOCHS)\n",
    "fig, (ax1, ax2) = plt.subplots(2, figsize=(8, 6), sharex=True)\n",
    "\n",
    "ax1.set_ylim([0, 1])\n",
    "ax1.plot(epoch_loss_train1,'black')\n",
    "ax1.plot(epoch_loss_valid1,'r')\n",
    "ax1.set_ylabel(\"Loss per Epoch\")\n",
    "ax1.legend([\"Training\",\"Validation\"])\n",
    "\n",
    "ax2.set_ylim([0, 1])\n",
    "ax2.plot(epoch_accuracy_train1,'black')\n",
    "ax2.plot(epoch_accuracy_valid1,'r')\n",
    "ax2.set_ylabel(\"Accuracy per Epoch\")\n",
    "ax2.set_xlabel(\"Epochs\");\n",
    "\n",
    "# plt.savefig(\"TMLA02.pdf\")\n",
    "plt.show()"
   ]
  },
  {
   "cell_type": "markdown",
   "metadata": {},
   "source": [
    "### Model 4"
   ]
  },
  {
   "cell_type": "markdown",
   "metadata": {},
   "source": [
    "The training data is re-folded into a training and validation fold for the second neural network and the TEXT and LABEL variables are redefined"
   ]
  },
  {
   "cell_type": "code",
   "execution_count": 20,
   "metadata": {},
   "outputs": [
    {
     "name": "stdout",
     "output_type": "stream",
     "text": [
      "First text in training set: {'label': '[1. 0. 0.]', 'text': ['+', 'besides', ',', 'no', 'small', 'degree', 'of', 'self-interest', '.', 'we', 'take', 'that', 'route', 'several', 'times', 'a', 'year', '&', 'would', 'hate', 'to', 'be', 'in', 'that', 'situation', '.']}\n",
      "Second text in training set: {'label': '[1. 0. 0.]', 'text': ['had', 'mom', 'sit', 'for', '3', 'hours', 'waiting', 'for', 'a', 'flight', 'they', 'ultimately', 'cancelled', 'flighted', 'to', 'give', 'her', 'a', 'tuesday', 'morning', 'flight', '...', 'no', 'compensation', '.', 'ugh']}\n",
      "Size of training fold: 7174\n",
      "Size of validation fold: 3074\n",
      "Size of TEXT vocab.: 10618\n",
      "Size of LABEL vocab.: 3\n",
      "Most common tokens in training set: [('.', 6760), ('to', 4241), ('the', 2906), ('i', 2709), ('!', 2447), ('?', 2282), ('a', 2258), (',', 2067), ('you', 1963), ('for', 1954)]\n",
      "Index of unknown word <unk>: 0\n",
      "Index of padding word <pad>: 1\n",
      "Label keys: defaultdict(None, {'[1. 0. 0.]': 0, '[0. 1. 0.]': 1, '[0. 0. 1.]': 2})\n"
     ]
    }
   ],
   "source": [
    "import torch\n",
    "from torchtext.legacy import data\n",
    "from nltk.tokenize import TweetTokenizer\n",
    "import random\n",
    "\n",
    "tokenizer = TweetTokenizer(preserve_case = False, strip_handles=True)\n",
    "\n",
    "TEXT = data.Field(tokenize=tokenizer.tokenize,batch_first=True,include_lengths=True)\n",
    "LABEL = data.LabelField(batch_first=True, dtype = torch.float)\n",
    "fields = [(\"label\",LABEL),(\"text\",TEXT)]\n",
    "dataset_train3 = data.TabularDataset(path = \"dataset_train2.csv\", format = \"csv\", fields = fields, skip_header = True)\n",
    "\n",
    "print(\"First text in training set:\", vars(dataset_train3.examples[0]))\n",
    "print(\"Second text in training set:\", vars(dataset_train3.examples[1]))\n",
    "\n",
    "nn_train2, nn_val2 = dataset_train3.split(split_ratio=0.7)\n",
    "\n",
    "print(\"Size of training fold:\",len(nn_train2))\n",
    "print(\"Size of validation fold:\",len(nn_val2))\n",
    "\n",
    "TEXT.build_vocab(nn_train2, min_freq = 1)\n",
    "LABEL.build_vocab(nn_train2)\n",
    "\n",
    "print(\"Size of TEXT vocab.:\", len(TEXT.vocab))\n",
    "print(\"Size of LABEL vocab.:\", len(LABEL.vocab))\n",
    "print(\"Most common tokens in training set:\",TEXT.vocab.freqs.most_common(10))\n",
    "print(\"Index of unknown word <unk>:\",TEXT.vocab.stoi['<unk>'])\n",
    "print(\"Index of padding word <pad>:\",TEXT.vocab.stoi['<pad>'])\n",
    "print(\"Label keys:\", LABEL.vocab.stoi)"
   ]
  },
  {
   "cell_type": "markdown",
   "metadata": {},
   "source": [
    "Defining model architecture"
   ]
  },
  {
   "cell_type": "code",
   "execution_count": 21,
   "metadata": {},
   "outputs": [
    {
     "name": "stdout",
     "output_type": "stream",
     "text": [
      "Device: cpu\n",
      "RNN (Model 4) architecture:\n",
      " RNN_Model4(\n",
      "  (embedding): Embedding(10618, 10)\n",
      "  (lstm): LSTM(10, 8, num_layers=2, batch_first=True, dropout=0.5, bidirectional=True)\n",
      "  (fc1): Linear(in_features=16, out_features=3, bias=True)\n",
      ")\n",
      "\n",
      "Model 4 trainable parameters: 109175\n"
     ]
    }
   ],
   "source": [
    "import torch.nn as nn\n",
    "\n",
    "device = torch.device('cuda' if torch.cuda.is_available() else 'cpu')\n",
    "print(\"Device:\",device)\n",
    "BATCH_SIZE = 16\n",
    "training_iterator, test_iterator = data.BucketIterator.splits(\n",
    "    (nn_train2, nn_val2),\n",
    "    batch_size = BATCH_SIZE,\n",
    "    sort_key = lambda x: len(x.text),\n",
    "    sort_within_batch=True,\n",
    "    device = device)\n",
    "\n",
    "class RNN_Model4(nn.Module):\n",
    "    def __init__(self, vocab_size, embedding_dim, hidden_dim, output_dim, n_layers,\n",
    "        bidirectional, dropout):\n",
    "        super().__init__()\n",
    "        self.embedding = nn.Embedding(vocab_size, embedding_dim)\n",
    "        self.lstm = nn.LSTM(embedding_dim, \n",
    "                            hidden_dim, \n",
    "                            num_layers=n_layers, \n",
    "                            bidirectional=bidirectional, \n",
    "                            dropout=dropout, \n",
    "                            batch_first=True)\n",
    "        self.fc1 = nn.Linear(hidden_dim * 2, output_dim)\n",
    "    \n",
    "    def forward(self, text, text_lengths):\n",
    "        embedded = self.embedding(text)\n",
    "        packed_embedded = nn.utils.rnn.pack_padded_sequence(embedded, text_lengths,batch_first=True)\n",
    "        packed_output, (hidden, cell) = self.lstm(packed_embedded)\n",
    "        hidden = torch.cat((hidden[-2,:,:], hidden[-1,:,:]), dim = 1)\n",
    "        dense_outputs=self.fc1(hidden)\n",
    "        return dense_outputs\n",
    "\n",
    "vocabulary_size = len(TEXT.vocab)\n",
    "embedding_dimensions = 10\n",
    "LSTM_no_of_hidden_nodes = 8\n",
    "LSTM_no_of_recurrent_layers = 2\n",
    "LSTM_bidirection = True\n",
    "LSTM_dropout = 0.5\n",
    "output_size = len(LABEL.vocab)\n",
    "\n",
    "model4 = RNN_Model4(vocabulary_size, embedding_dimensions, LSTM_no_of_hidden_nodes,\n",
    "    output_size, LSTM_no_of_recurrent_layers,\n",
    "    bidirectional = LSTM_bidirection,dropout = LSTM_dropout)\n",
    "\n",
    "print(\"RNN (Model 4) architecture:\\n\",model4)\n",
    "\n",
    "def count_parameters(model4):\n",
    "    return sum(p.numel() for p in model4.parameters() if p.requires_grad)\n",
    "print(\"\\nModel 4 trainable parameters:\",count_parameters(model4))\n",
    "\n",
    "import torch.optim as optim\n",
    "optimizer = optim.Adam(model4.parameters())\n",
    "criterion = nn.CrossEntropyLoss()\n",
    "\n",
    "def categorical_accuracy(preds, y):\n",
    "    top_pred = preds.argmax(1, keepdim = True)\n",
    "    correct = top_pred.eq(y.view_as(top_pred)).sum()\n",
    "    acc = correct.float() / y.shape[0]\n",
    "    return acc\n",
    "\n",
    "model4 = model4.to(device)\n",
    "criterion = criterion.to(device)\n",
    "\n",
    "def train(model4, iterator, optimizer, criterion):\n",
    "    epoch_loss = 0\n",
    "    epoch_acc = 0\n",
    "    model4.train()\n",
    "    for batch in iterator:\n",
    "        optimizer.zero_grad()\n",
    "        text, text_lengths = batch.text\n",
    "        predictions = model4(text, text_lengths)\n",
    "        loss = criterion(predictions, batch.label.type(torch.LongTensor))\n",
    "        acc = categorical_accuracy(predictions, batch.label)\n",
    "        loss.backward()\n",
    "        optimizer.step()\n",
    "        epoch_loss += loss.item()\n",
    "        epoch_acc += acc.item()\n",
    "    return epoch_loss / len(iterator), epoch_acc / len(iterator)\n",
    "\n",
    "def evaluate(model4, iterator, criterion):\n",
    "    epoch_loss = 0\n",
    "    epoch_acc = 0\n",
    "    model4.eval()\n",
    "    with torch.no_grad():\n",
    "        for batch in iterator:\n",
    "            text, text_lengths = batch.text\n",
    "            predictions = model4(text, text_lengths)\n",
    "            loss = criterion(predictions, batch.label.type(torch.LongTensor))\n",
    "            acc = categorical_accuracy(predictions, batch.label)\n",
    "            epoch_loss += loss.item()\n",
    "            epoch_acc += acc.item()\n",
    "    return epoch_loss / len(iterator), epoch_acc / len(iterator)"
   ]
  },
  {
   "cell_type": "markdown",
   "metadata": {},
   "source": [
    "Training the model over 25 epochs"
   ]
  },
  {
   "cell_type": "code",
   "execution_count": 22,
   "metadata": {},
   "outputs": [
    {
     "name": "stdout",
     "output_type": "stream",
     "text": [
      "Epoch   0: Train loss: 0.880 | Train acuracy: 0.6308 | Validation loss: 0.811 | Validation acuracy: 0.6509 - 10.57 s\n",
      "Epoch   1: Train loss: 0.770 | Train acuracy: 0.6730 | Validation loss: 0.746 | Validation acuracy: 0.6823 - 10.34 s\n",
      "Epoch   2: Train loss: 0.692 | Train acuracy: 0.7078 | Validation loss: 0.704 | Validation acuracy: 0.6969 - 10.30 s\n",
      "Epoch   3: Train loss: 0.627 | Train acuracy: 0.7384 | Validation loss: 0.694 | Validation acuracy: 0.7102 - 10.33 s\n",
      "Epoch   4: Train loss: 0.579 | Train acuracy: 0.7633 | Validation loss: 0.659 | Validation acuracy: 0.7202 - 10.28 s\n",
      "Epoch   5: Train loss: 0.534 | Train acuracy: 0.7833 | Validation loss: 0.648 | Validation acuracy: 0.7309 - 10.38 s\n",
      "Epoch   6: Train loss: 0.494 | Train acuracy: 0.8020 | Validation loss: 0.650 | Validation acuracy: 0.7345 - 10.33 s\n",
      "Epoch   7: Train loss: 0.460 | Train acuracy: 0.8217 | Validation loss: 0.656 | Validation acuracy: 0.7481 - 10.26 s\n",
      "Epoch   8: Train loss: 0.429 | Train acuracy: 0.8362 | Validation loss: 0.648 | Validation acuracy: 0.7406 - 10.36 s\n",
      "Epoch   9: Train loss: 0.398 | Train acuracy: 0.8485 | Validation loss: 0.670 | Validation acuracy: 0.7497 - 10.35 s\n",
      "Epoch  10: Train loss: 0.370 | Train acuracy: 0.8621 | Validation loss: 0.689 | Validation acuracy: 0.7571 - 10.28 s\n",
      "Epoch  11: Train loss: 0.351 | Train acuracy: 0.8720 | Validation loss: 0.667 | Validation acuracy: 0.7574 - 10.40 s\n",
      "Epoch  12: Train loss: 0.324 | Train acuracy: 0.8831 | Validation loss: 0.693 | Validation acuracy: 0.7584 - 10.45 s\n",
      "Epoch  13: Train loss: 0.301 | Train acuracy: 0.8934 | Validation loss: 0.713 | Validation acuracy: 0.7642 - 10.26 s\n",
      "Epoch  14: Train loss: 0.279 | Train acuracy: 0.9013 | Validation loss: 0.738 | Validation acuracy: 0.7636 - 10.97 s\n",
      "Epoch  15: Train loss: 0.265 | Train acuracy: 0.9071 | Validation loss: 0.731 | Validation acuracy: 0.7513 - 11.19 s\n",
      "Epoch  16: Train loss: 0.245 | Train acuracy: 0.9124 | Validation loss: 0.759 | Validation acuracy: 0.7587 - 10.48 s\n",
      "Epoch  17: Train loss: 0.230 | Train acuracy: 0.9219 | Validation loss: 0.766 | Validation acuracy: 0.7503 - 10.84 s\n",
      "Epoch  18: Train loss: 0.222 | Train acuracy: 0.9232 | Validation loss: 0.821 | Validation acuracy: 0.7432 - 10.30 s\n",
      "Epoch  19: Train loss: 0.206 | Train acuracy: 0.9268 | Validation loss: 0.822 | Validation acuracy: 0.7545 - 10.24 s\n",
      "Epoch  20: Train loss: 0.185 | Train acuracy: 0.9368 | Validation loss: 0.831 | Validation acuracy: 0.7532 - 10.41 s\n",
      "Epoch  21: Train loss: 0.173 | Train acuracy: 0.9421 | Validation loss: 0.843 | Validation acuracy: 0.7539 - 10.31 s\n",
      "Epoch  22: Train loss: 0.167 | Train acuracy: 0.9428 | Validation loss: 0.857 | Validation acuracy: 0.7578 - 10.19 s\n",
      "Epoch  23: Train loss: 0.155 | Train acuracy: 0.9478 | Validation loss: 0.913 | Validation acuracy: 0.7555 - 10.48 s\n",
      "Epoch  24: Train loss: 0.147 | Train acuracy: 0.9504 | Validation loss: 0.919 | Validation acuracy: 0.7519 - 10.35 s\n",
      "\n",
      "Best performance at epoch 8 | Loss: 0.648 | Accuracy: 0.7406\n"
     ]
    }
   ],
   "source": [
    "import time\n",
    "\n",
    "N_EPOCHS = 25\n",
    "best_valid_loss2 = float('inf')\n",
    "best_valid_acc2 = float('inf')\n",
    "best_epoch2 = 0\n",
    "\n",
    "epoch_loss_train2 = []\n",
    "epoch_loss_valid2 = []\n",
    "epoch_accuracy_train2 = []\n",
    "epoch_accuracy_valid2 = []\n",
    "\n",
    "for epoch in range(N_EPOCHS):\n",
    "    print(\"Epoch %3d:\" % epoch,end='')\n",
    "    start = time.time()\n",
    "    train_loss, train_acc = train(model4, training_iterator, optimizer, criterion)\n",
    "    epoch_loss_train2.append(train_loss)\n",
    "    epoch_accuracy_train2.append(train_acc)\n",
    "    \n",
    "    valid_loss, valid_acc = evaluate(model4, test_iterator, criterion)\n",
    "    epoch_loss_valid2.append(valid_loss)\n",
    "    epoch_accuracy_valid2.append(valid_acc)\n",
    "    \n",
    "    if valid_loss < best_valid_loss2:\n",
    "        best_valid_loss2 = valid_loss\n",
    "        best_valid_acc2 = valid_acc\n",
    "        best_epoch2 = epoch\n",
    "        torch.save(model4.state_dict(), 'saved_weights.pt')\n",
    "    print(\" Train loss: %.3f | Train acuracy: %3.4f \" % (train_loss,train_acc),end='')\n",
    "    print(\"| Validation loss: %.3f | Validation acuracy: %3.4f\" % (valid_loss,valid_acc),end='')\n",
    "    print(\" - %3.2f s\" % (time.time()-start))\n",
    "print(\"\\nBest performance at epoch %d | Loss: %.3f | Accuracy: %3.4f\" % (best_epoch2,best_valid_loss2,best_valid_acc2))"
   ]
  },
  {
   "cell_type": "markdown",
   "metadata": {},
   "source": [
    "Plotting change in loss and accuracy during training process. Figure 2 b"
   ]
  },
  {
   "cell_type": "code",
   "execution_count": 36,
   "metadata": {},
   "outputs": [
    {
     "data": {
      "image/png": "[encoded data removed]",
      "text/plain": [
       "<Figure size 576x432 with 2 Axes>"
      ]
     },
     "metadata": {},
     "output_type": "display_data"
    }
   ],
   "source": [
    "import numpy as np\n",
    "import seaborn as sns\n",
    "import matplotlib.pyplot as plt\n",
    "sns.set()\n",
    "plt.rcParams[\"font.family\"] = \"Arial\"\n",
    "\n",
    "eps = np.arange(N_EPOCHS)\n",
    "fig, (ax1, ax2) = plt.subplots(2, figsize=(8, 6), sharex=True)\n",
    "\n",
    "ax1.set_ylim([0, 1])\n",
    "ax1.plot(epoch_loss_train2,'black')\n",
    "ax1.plot(epoch_loss_valid2,'r')\n",
    "ax1.set_ylabel(\"Loss per Epoch\")\n",
    "ax1.legend([\"Training\",\"Validation\"])\n",
    "\n",
    "ax2.set_ylim([0, 1])\n",
    "ax2.plot(epoch_accuracy_train2,'black')\n",
    "ax2.plot(epoch_accuracy_valid2,'r')\n",
    "ax2.set_ylabel(\"Accuracy per Epoch\")\n",
    "ax2.set_xlabel(\"Epochs\");\n",
    "\n",
    "# plt.savefig(\"TMLA03.pdf\")\n",
    "plt.show()"
   ]
  },
  {
   "cell_type": "markdown",
   "metadata": {},
   "source": [
    "### Part 5\n",
    "\n",
    "### Testing against the test data set\n",
    "\n",
    "### Confusion matricies and performance statistics"
   ]
  },
  {
   "cell_type": "markdown",
   "metadata": {},
   "source": [
    "Model 1: Multinominal Naïve Bayes. Figure 4"
   ]
  },
  {
   "cell_type": "code",
   "execution_count": 40,
   "metadata": {},
   "outputs": [
    {
     "name": "stdout",
     "output_type": "stream",
     "text": [
      "Accuracy:\t0.676578\n",
      "F1-score:\t0.419289\n",
      "Precision:\t0.791994\n",
      "Recall:\t\t0.420731\n",
      "\n",
      "Classification performance:\n",
      "              precision    recall  f1-score   support\n",
      "\n",
      "    negative       0.67      1.00      0.80      1378\n",
      "     neutral       0.84      0.12      0.21       450\n",
      "    positive       0.87      0.15      0.25       358\n",
      "\n",
      "    accuracy                           0.68      2186\n",
      "   macro avg       0.79      0.42      0.42      2186\n",
      "weighted avg       0.74      0.68      0.59      2186\n",
      "\n"
     ]
    },
    {
     "data": {
      "image/png": "[encoded data removed]",
      "text/plain": [
       "<Figure size 504x504 with 2 Axes>"
      ]
     },
     "metadata": {},
     "output_type": "display_data"
    }
   ],
   "source": [
    "from sklearn.metrics import confusion_matrix\n",
    "from sklearn.metrics import accuracy_score\n",
    "from sklearn.metrics import f1_score\n",
    "from sklearn.metrics import precision_score\n",
    "from sklearn.metrics import recall_score\n",
    "from sklearn.metrics import classification_report\n",
    "import seaborn as sns\n",
    "import matplotlib.pyplot as plt\n",
    "sns.set()\n",
    "plt.rcParams[\"font.family\"] = \"Arial\"\n",
    "plt.rcParams['figure.figsize'] = [7, 7]\n",
    "\n",
    "prediction1 = model1.predict(bagofwords_test)\n",
    "mat1 = confusion_matrix(labels_test, prediction1)\n",
    "mat1_perc = [\"{0:.0%}\".format(value) for value in mat1.flatten()/np.sum(mat1)]\n",
    "mat1_count = [\"{0:0.0f}\".format(value) for value in mat1.flatten()]\n",
    "mat1_labels = [f\"{v1}\\n{v2}\" for v1, v2 in zip(mat1_perc,mat1_count)]\n",
    "mat1_labels = np.asarray(mat1_labels).reshape(3,3)\n",
    "\n",
    "sns.heatmap(mat1, square = True, xticklabels = [\"Neg.\", \"Neut.\", \"Pos.\"], yticklabels = [\"Neg.\", \"Neut.\", \"Pos.\"], annot=mat1_labels, fmt = \"\")\n",
    "plt.xlabel(\"True sentiment\")\n",
    "plt.ylabel(\"Predicted sentiment\")\n",
    "# plt.savefig(\"TMLA04.pdf\")\n",
    "plt.show()\n",
    "\n",
    "print(\"Accuracy:\\t%f\" % accuracy_score(labels_test, prediction1))\n",
    "print(\"F1-score:\\t%f\" % f1_score(labels_test, prediction1, average='macro'))\n",
    "print(\"Precision:\\t%f\" % precision_score(labels_test, prediction1, average='macro'))\n",
    "print(\"Recall:\\t\\t%f\" % recall_score(labels_test, prediction1, average='macro'))\n",
    "print(\"\\nClassification performance:\\n%s\" % classification_report(labels_test, prediction1))"
   ]
  },
  {
   "cell_type": "markdown",
   "metadata": {},
   "source": [
    "Model 2: Binary, or Bernoulli Naïve Bayes. Figure 5"
   ]
  },
  {
   "cell_type": "code",
   "execution_count": 37,
   "metadata": {},
   "outputs": [
    {
     "name": "stdout",
     "output_type": "stream",
     "text": [
      "Accuracy:\t0.775846\n",
      "F1-score:\t0.677510\n",
      "Precision:\t0.762895\n",
      "Recall:\t\t0.638591\n",
      "\n",
      "Classification performance:\n",
      "              precision    recall  f1-score   support\n",
      "\n",
      "    negative       0.79      0.94      0.86      1378\n",
      "     neutral       0.66      0.50      0.57       450\n",
      "    positive       0.84      0.47      0.60       358\n",
      "\n",
      "    accuracy                           0.78      2186\n",
      "   macro avg       0.76      0.64      0.68      2186\n",
      "weighted avg       0.77      0.78      0.76      2186\n",
      "\n"
     ]
    },
    {
     "data": {
      "image/png": "[encoded data removed]",
      "text/plain": [
       "<Figure size 504x504 with 2 Axes>"
      ]
     },
     "metadata": {},
     "output_type": "display_data"
    }
   ],
   "source": [
    "from sklearn.metrics import confusion_matrix\n",
    "from sklearn.metrics import accuracy_score\n",
    "from sklearn.metrics import f1_score\n",
    "from sklearn.metrics import precision_score\n",
    "from sklearn.metrics import recall_score\n",
    "from sklearn.metrics import classification_report\n",
    "import seaborn as sns\n",
    "import matplotlib.pyplot as plt\n",
    "sns.set()\n",
    "plt.rcParams[\"font.family\"] = \"Arial\"\n",
    "plt.rcParams['figure.figsize'] = [7, 7]\n",
    "\n",
    "prediction2 = model2.predict(bagofwords_test)\n",
    "mat2 = confusion_matrix(labels_test, prediction2)\n",
    "mat2_perc = [\"{0:.0%}\".format(value) for value in mat2.flatten()/np.sum(mat2)]\n",
    "mat2_count = [\"{0:0.0f}\".format(value) for value in mat2.flatten()]\n",
    "mat2_labels = [f\"{v1}\\n{v2}\" for v1, v2 in zip(mat2_perc,mat2_count)]\n",
    "mat2_labels = np.asarray(mat2_labels).reshape(3,3)\n",
    "sns.heatmap(mat2, square = True, xticklabels = [\"Neg.\", \"Neut.\", \"Pos.\"], yticklabels = [\"Neg.\", \"Neut.\", \"Pos.\"], annot=mat2_labels, fmt = \"\")\n",
    "\n",
    "plt.xlabel(\"True sentiment\")\n",
    "plt.ylabel(\"Predicted sentiment\")\n",
    "# plt.savefig(\"TMLA05.pdf\")\n",
    "plt.show()\n",
    "\n",
    "print(\"Accuracy:\\t%f\" % accuracy_score(labels_test, prediction2))\n",
    "print(\"F1-score:\\t%f\" % f1_score(labels_test, prediction2, average='macro'))\n",
    "print(\"Precision:\\t%f\" % precision_score(labels_test, prediction2, average='macro'))\n",
    "print(\"Recall:\\t\\t%f\" % recall_score(labels_test, prediction2, average='macro'))\n",
    "print(\"\\nClassification performance:\\n%s\" % classification_report(labels_test, prediction2))"
   ]
  },
  {
   "cell_type": "markdown",
   "metadata": {},
   "source": [
    "Model 3: Recurrent Neural Network. Figure 6"
   ]
  },
  {
   "cell_type": "code",
   "execution_count": 38,
   "metadata": {},
   "outputs": [
    {
     "name": "stdout",
     "output_type": "stream",
     "text": [
      "Accuracy:\t0.731330\n",
      "F1-score:\t0.627452\n",
      "Precision:\t0.682051\n",
      "Recall:\t\t0.599230\n",
      "\n",
      "Classification performance:\n",
      "              precision    recall  f1-score   support\n",
      "\n",
      "    negative       0.77      0.90      0.83      1380\n",
      "     neutral       0.56      0.39      0.46       455\n",
      "    positive       0.72      0.50      0.59       361\n",
      "\n",
      "    accuracy                           0.73      2196\n",
      "   macro avg       0.68      0.60      0.63      2196\n",
      "weighted avg       0.72      0.73      0.71      2196\n",
      "\n"
     ]
    },
    {
     "data": {
      "image/png": "[encoded data removed]",
      "text/plain": [
       "<Figure size 504x504 with 2 Axes>"
      ]
     },
     "metadata": {},
     "output_type": "display_data"
    }
   ],
   "source": [
    "from nltk.tokenize import TweetTokenizer\n",
    "from sklearn.metrics import confusion_matrix\n",
    "from sklearn.metrics import accuracy_score\n",
    "from sklearn.metrics import f1_score\n",
    "from sklearn.metrics import precision_score\n",
    "from sklearn.metrics import recall_score\n",
    "from sklearn.metrics import classification_report\n",
    "import seaborn as sns\n",
    "import matplotlib.pyplot as plt\n",
    "\n",
    "tokenizer = TweetTokenizer(preserve_case = False, strip_handles=True)\n",
    "sns.set()\n",
    "plt.rcParams[\"font.family\"] = \"Arial\"\n",
    "plt.rcParams['figure.figsize'] = [7, 7]\n",
    "\n",
    "def model3_predict(model3, sentence):\n",
    "    tokenised = [token for token in tokenizer.tokenize(sentence)]\n",
    "    indexed = [TEXT.vocab.stoi[token] for token in tokenised]\n",
    "    length = [len(indexed)]\n",
    "    tensor = torch.LongTensor(indexed).to(device)\n",
    "    tensor = tensor.unsqueeze(1).T\n",
    "    length_tensor = torch.DoubleTensor(length)\n",
    "    prediction = model3(tensor, length_tensor)\n",
    "    prediction = prediction.argmax(dim = 1)\n",
    "    return prediction.item()\n",
    "label_names = {0:\"negative\", 1:\"neutral\", 2:\"positive\"}\n",
    "\n",
    "prediction3 = []\n",
    "for i in text_test1:\n",
    "    predict_label = label_names[model3_predict(model3, i)]\n",
    "    prediction3.append(predict_label)\n",
    "\n",
    "mat3 = confusion_matrix(labels_test1, prediction3)\n",
    "mat3_perc = [\"{0:.0%}\".format(value) for value in mat3.flatten()/np.sum(mat3)]\n",
    "mat3_count = [\"{0:0.0f}\".format(value) for value in mat3.flatten()]\n",
    "mat3_labels = [f\"{v1}\\n{v2}\" for v1, v2 in zip(mat3_perc,mat3_count)]\n",
    "mat3_labels = np.asarray(mat3_labels).reshape(3,3)\n",
    "sns.heatmap(mat3, square = True, xticklabels = [\"Neg.\", \"Neut.\", \"Pos.\"], yticklabels = [\"Neg.\", \"Neut.\", \"Pos.\"], annot=mat3_labels, fmt = \"\")\n",
    "plt.xlabel(\"True sentiment\")\n",
    "plt.ylabel(\"Predicted sentiment\")\n",
    "# plt.savefig(\"TMLA06.pdf\")\n",
    "plt.show()\n",
    "\n",
    "print(\"Accuracy:\\t%f\" % accuracy_score(labels_test1, prediction3))\n",
    "print(\"F1-score:\\t%f\" % f1_score(labels_test1, prediction3, average='macro'))\n",
    "print(\"Precision:\\t%f\" % precision_score(labels_test1, prediction3, average='macro'))\n",
    "print(\"Recall:\\t\\t%f\" % recall_score(labels_test1, prediction3, average='macro'))\n",
    "print(\"\\nClassification performance:\\n%s\" % classification_report(labels_test1, prediction3))"
   ]
  },
  {
   "cell_type": "markdown",
   "metadata": {},
   "source": [
    "Model 4. Figure 7"
   ]
  },
  {
   "cell_type": "code",
   "execution_count": 39,
   "metadata": {},
   "outputs": [
    {
     "name": "stdout",
     "output_type": "stream",
     "text": [
      "Accuracy:\t0.758197\n",
      "F1-score:\t0.684386\n",
      "Precision:\t0.710423\n",
      "Recall:\t\t0.670030\n",
      "\n",
      "Classification performance:\n",
      "              precision    recall  f1-score   support\n",
      "\n",
      "    negative       0.84      0.87      0.85      1380\n",
      "     neutral       0.53      0.58      0.55       455\n",
      "    positive       0.77      0.56      0.65       361\n",
      "\n",
      "    accuracy                           0.76      2196\n",
      "   macro avg       0.71      0.67      0.68      2196\n",
      "weighted avg       0.76      0.76      0.76      2196\n",
      "\n"
     ]
    },
    {
     "data": {
      "image/png": "[encoded data removed]",
      "text/plain": [
       "<Figure size 504x504 with 2 Axes>"
      ]
     },
     "metadata": {},
     "output_type": "display_data"
    }
   ],
   "source": [
    "from nltk.tokenize import TweetTokenizer\n",
    "from sklearn.metrics import confusion_matrix\n",
    "from sklearn.metrics import accuracy_score\n",
    "from sklearn.metrics import f1_score\n",
    "from sklearn.metrics import precision_score\n",
    "from sklearn.metrics import recall_score\n",
    "from sklearn.metrics import classification_report\n",
    "import seaborn as sns\n",
    "import matplotlib.pyplot as plt\n",
    "\n",
    "tokenizer = TweetTokenizer(preserve_case = False, strip_handles=True)\n",
    "sns.set()\n",
    "plt.rcParams[\"font.family\"] = \"Arial\"\n",
    "plt.rcParams['figure.figsize'] = [7, 7]\n",
    "\n",
    "def model4_predict(model4, sentence):\n",
    "    tokenised = [token for token in tokenizer.tokenize(sentence)]\n",
    "    indexed = [TEXT.vocab.stoi[token] for token in tokenised]\n",
    "    length = [len(indexed)]\n",
    "    tensor = torch.LongTensor(indexed).to(device)\n",
    "    tensor = tensor.unsqueeze(1).T\n",
    "    length_tensor = torch.DoubleTensor(length)\n",
    "    prediction = model4(tensor, length_tensor)\n",
    "    prediction = prediction.argmax(dim = 1)\n",
    "    return prediction.item()\n",
    "label_names = {0:\"negative\", 1:\"neutral\", 2:\"positive\"}\n",
    "\n",
    "prediction4 = []\n",
    "for i in text_test1:\n",
    "    predict_label = label_names[model4_predict(model4, i)]\n",
    "    prediction4.append(predict_label)\n",
    "\n",
    "mat4 = confusion_matrix(labels_test1, prediction4)\n",
    "mat4_perc = [\"{0:.0%}\".format(value) for value in mat4.flatten()/np.sum(mat4)]\n",
    "mat4_count = [\"{0:0.0f}\".format(value) for value in mat4.flatten()]\n",
    "mat4_labels = [f\"{v1}\\n{v2}\" for v1, v2 in zip(mat4_perc,mat4_count)]\n",
    "mat4_labels = np.asarray(mat4_labels).reshape(3,3)\n",
    "sns.heatmap(mat4, square = True, xticklabels = [\"Neg.\", \"Neut.\", \"Pos.\"], yticklabels = [\"Neg.\", \"Neut.\", \"Pos.\"], annot=mat4_labels, fmt = \"\")\n",
    "plt.xlabel(\"True sentiment\")\n",
    "plt.ylabel(\"Predicted sentiment\")\n",
    "# plt.savefig(\"TMLA07.pdf\")\n",
    "plt.show()\n",
    "\n",
    "print(\"Accuracy:\\t%f\" % accuracy_score(labels_test1, prediction4))\n",
    "print(\"F1-score:\\t%f\" % f1_score(labels_test1, prediction4, average='macro'))\n",
    "print(\"Precision:\\t%f\" % precision_score(labels_test1, prediction4, average='macro'))\n",
    "print(\"Recall:\\t\\t%f\" % recall_score(labels_test1, prediction4, average='macro'))\n",
    "print(\"\\nClassification performance:\\n%s\" % classification_report(labels_test1, prediction4))"
   ]
  },
  {
   "cell_type": "markdown",
   "metadata": {},
   "source": [
    "### Part 6\n",
    "\n",
    "### Saving the trained neural networks and a function for new tweets"
   ]
  },
  {
   "cell_type": "markdown",
   "metadata": {},
   "source": [
    "Saving with pickle"
   ]
  },
  {
   "cell_type": "code",
   "execution_count": 2,
   "metadata": {},
   "outputs": [
    {
     "ename": "NameError",
     "evalue": "name 'model3' is not defined",
     "output_type": "error",
     "traceback": [
      "\u001b[1;31m---------------------------------------------------------------------------\u001b[0m",
      "\u001b[1;31mNameError\u001b[0m                                 Traceback (most recent call last)",
      "\u001b[1;32m<ipython-input-2-bcbb9c998d04>\u001b[0m in \u001b[0;36m<module>\u001b[1;34m\u001b[0m\n\u001b[0;32m      3\u001b[0m \u001b[0mpkl_filename2\u001b[0m \u001b[1;33m=\u001b[0m \u001b[1;34m\"FJPW_Model4.pkl\"\u001b[0m\u001b[1;33m\u001b[0m\u001b[1;33m\u001b[0m\u001b[0m\n\u001b[0;32m      4\u001b[0m \u001b[1;32mwith\u001b[0m \u001b[0mopen\u001b[0m\u001b[1;33m(\u001b[0m\u001b[0mpkl_filename1\u001b[0m\u001b[1;33m,\u001b[0m \u001b[1;34m\"wb\"\u001b[0m\u001b[1;33m)\u001b[0m \u001b[1;32mas\u001b[0m \u001b[0mfile\u001b[0m\u001b[1;33m:\u001b[0m\u001b[1;33m\u001b[0m\u001b[1;33m\u001b[0m\u001b[0m\n\u001b[1;32m----> 5\u001b[1;33m     \u001b[0mpickle\u001b[0m\u001b[1;33m.\u001b[0m\u001b[0mdump\u001b[0m\u001b[1;33m(\u001b[0m\u001b[0mmodel3\u001b[0m\u001b[1;33m,\u001b[0m \u001b[0mfile\u001b[0m\u001b[1;33m)\u001b[0m\u001b[1;33m\u001b[0m\u001b[1;33m\u001b[0m\u001b[0m\n\u001b[0m\u001b[0;32m      6\u001b[0m \u001b[1;32mwith\u001b[0m \u001b[0mopen\u001b[0m\u001b[1;33m(\u001b[0m\u001b[0mpkl_filename2\u001b[0m\u001b[1;33m,\u001b[0m \u001b[1;34m\"wb\"\u001b[0m\u001b[1;33m)\u001b[0m \u001b[1;32mas\u001b[0m \u001b[0mfile\u001b[0m\u001b[1;33m:\u001b[0m\u001b[1;33m\u001b[0m\u001b[1;33m\u001b[0m\u001b[0m\n\u001b[0;32m      7\u001b[0m     \u001b[0mpickle\u001b[0m\u001b[1;33m.\u001b[0m\u001b[0mdump\u001b[0m\u001b[1;33m(\u001b[0m\u001b[0mmodel4\u001b[0m\u001b[1;33m,\u001b[0m \u001b[0mfile\u001b[0m\u001b[1;33m)\u001b[0m\u001b[1;33m\u001b[0m\u001b[1;33m\u001b[0m\u001b[0m\n",
      "\u001b[1;31mNameError\u001b[0m: name 'model3' is not defined"
     ]
    }
   ],
   "source": [
    "import pickle\n",
    "pkl_filename1 = \"FJPW_Model3.pkl\"\n",
    "pkl_filename2 = \"FJPW_Model4.pkl\"\n",
    "with open(pkl_filename1, \"wb\") as file:\n",
    "    pickle.dump(model3, file)\n",
    "with open(pkl_filename2, \"wb\") as file:\n",
    "    pickle.dump(model4, file)"
   ]
  },
  {
   "cell_type": "markdown",
   "metadata": {},
   "source": [
    "Loading the networks and classifying new tweets"
   ]
  },
  {
   "cell_type": "code",
   "execution_count": 1,
   "metadata": {},
   "outputs": [
    {
     "name": "stdout",
     "output_type": "stream",
     "text": [
      "Please enter filename of classifier to be used (FJPW_Model3.pkl or FJPW_Model4.pkl): FJPW_Model3.pkl\n"
     ]
    },
    {
     "ename": "AttributeError",
     "evalue": "Can't get attribute 'RNN_Model3' on <module '__main__'>",
     "output_type": "error",
     "traceback": [
      "\u001b[1;31m---------------------------------------------------------------------------\u001b[0m",
      "\u001b[1;31mAttributeError\u001b[0m                            Traceback (most recent call last)",
      "\u001b[1;32m<ipython-input-1-06ed95e84a60>\u001b[0m in \u001b[0;36m<module>\u001b[1;34m\u001b[0m\n\u001b[0;32m     17\u001b[0m \u001b[1;32mimport\u001b[0m \u001b[0mpickle\u001b[0m\u001b[1;33m\u001b[0m\u001b[1;33m\u001b[0m\u001b[0m\n\u001b[0;32m     18\u001b[0m \u001b[1;32mwith\u001b[0m \u001b[0mopen\u001b[0m\u001b[1;33m(\u001b[0m\u001b[1;34mfr\"{pickle_model}\"\u001b[0m\u001b[1;33m,\u001b[0m \u001b[1;34m\"rb\"\u001b[0m\u001b[1;33m)\u001b[0m \u001b[1;32mas\u001b[0m \u001b[0mfile\u001b[0m\u001b[1;33m:\u001b[0m\u001b[1;33m\u001b[0m\u001b[1;33m\u001b[0m\u001b[0m\n\u001b[1;32m---> 19\u001b[1;33m     \u001b[0mpickle_model\u001b[0m \u001b[1;33m=\u001b[0m \u001b[0mpickle\u001b[0m\u001b[1;33m.\u001b[0m\u001b[0mload\u001b[0m\u001b[1;33m(\u001b[0m\u001b[0mfile\u001b[0m\u001b[1;33m)\u001b[0m\u001b[1;33m\u001b[0m\u001b[1;33m\u001b[0m\u001b[0m\n\u001b[0m\u001b[0;32m     20\u001b[0m \u001b[1;33m\u001b[0m\u001b[0m\n\u001b[0;32m     21\u001b[0m \u001b[0mnew_tweet\u001b[0m \u001b[1;33m=\u001b[0m \u001b[0minput\u001b[0m\u001b[1;33m(\u001b[0m\u001b[1;34m\"Please enter the tweet to be classified here: \"\u001b[0m\u001b[1;33m)\u001b[0m\u001b[1;33m\u001b[0m\u001b[1;33m\u001b[0m\u001b[0m\n",
      "\u001b[1;31mAttributeError\u001b[0m: Can't get attribute 'RNN_Model3' on <module '__main__'>"
     ]
    }
   ],
   "source": [
    "from nltk.tokenize import TweetTokenizer\n",
    "tokenizer = TweetTokenizer(preserve_case = False, strip_handles=True)\n",
    "def tweet_predict(pickle_model, sentence):\n",
    "    tokenised = [token for token in tokenizer.tokenize(sentence)]\n",
    "    indexed = [TEXT.vocab.stoi[token] for token in tokenised]\n",
    "    length = [len(indexed)]\n",
    "    tensor = torch.LongTensor(indexed).to(device)\n",
    "    tensor = tensor.unsqueeze(1).T\n",
    "    length_tensor = torch.DoubleTensor(length)\n",
    "    prediction = pickle_model(tensor, length_tensor)\n",
    "    prediction = prediction.argmax(dim = 1)\n",
    "    return prediction.item()\n",
    "label_names = {0:\"negative\", 1:\"neutral\", 2:\"positive\"}\n",
    "\n",
    "pickle_model = input(\"Please enter filename of classifier to be used (FJPW_Model3.pkl or FJPW_Model4.pkl): \")\n",
    "\n",
    "import pickle\n",
    "with open(fr\"{pickle_model}\", \"rb\") as file:\n",
    "    pickle_model = pickle.load(file)\n",
    "\n",
    "new_tweet = input(\"Please enter the tweet to be classified here: \")\n",
    "print(\"This tweet has been classified as\", label_names[tweet_predict(pickle_model, new_tweet)])"
   ]
  }
 ],
 "metadata": {
  "kernelspec": {
   "display_name": "Python 3",
   "language": "python",
   "name": "python3"
  },
  "language_info": {
   "codemirror_mode": {
    "name": "ipython",
    "version": 3
   },
   "file_extension": ".py",
   "mimetype": "text/x-python",
   "name": "python",
   "nbconvert_exporter": "python",
   "pygments_lexer": "ipython3",
   "version": "3.8.3"
  }
 },
 "nbformat": 4,
 "nbformat_minor": 4
}
